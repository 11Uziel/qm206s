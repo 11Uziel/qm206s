{
  "nbformat": 4,
  "nbformat_minor": 0,
  "metadata": {
    "colab": {
      "provenance": [],
      "authorship_tag": "ABX9TyNKt/zVsnYQBl8ZU/0i93a0",
      "include_colab_link": true
    },
    "kernelspec": {
      "name": "python3",
      "display_name": "Python 3"
    },
    "language_info": {
      "name": "python"
    }
  },
  "cells": [
    {
      "cell_type": "markdown",
      "metadata": {
        "id": "view-in-github",
        "colab_type": "text"
      },
      "source": [
        "<a href=\"https://colab.research.google.com/github/11Uziel/qm206s/blob/main/Qm206_clase01.ipynb\" target=\"_parent\"><img src=\"https://colab.research.google.com/assets/colab-badge.svg\" alt=\"Open In Colab\"/></a>"
      ]
    },
    {
      "cell_type": "code",
      "execution_count": null,
      "metadata": {
        "id": "5jij8EdbLcq8"
      },
      "outputs": [],
      "source": [
        "from _typeshed import ProfileFunction\n",
        "v=[5,7,6,2,5,3,9,1,7,8,5]\n",
        "print(v)\n",
        "print(len(v))\n",
        "v[4]=13\n",
        "print(v+v)\n"
      ]
    },
    {
      "cell_type": "code",
      "source": [
        "p=(5,3,7,2,3,8,9)\n",
        "print(p)\n",
        "print(p[1])\n",
        "print(p[2:5])"
      ],
      "metadata": {
        "colab": {
          "base_uri": "https://localhost:8080/"
        },
        "id": "xhFT3Zx4Nchc",
        "outputId": "a17c19c3-a194-4d40-bd9f-19339f0ff55d"
      },
      "execution_count": null,
      "outputs": [
        {
          "output_type": "stream",
          "name": "stdout",
          "text": [
            "(5, 3, 7, 2, 3, 8, 9)\n",
            "3\n",
            "(7, 2, 3)\n"
          ]
        }
      ]
    },
    {
      "cell_type": "code",
      "source": [
        "dict={\"nombre\":\"Laura\",\"cedula\":\"4-890-2456\",\"edad\":20,\"estatura\":1.68}\n",
        "print(dict)\n",
        "print(dict[\"nombre\"])\n",
        "print(dict[\"edad\"])"
      ],
      "metadata": {
        "colab": {
          "base_uri": "https://localhost:8080/"
        },
        "id": "jiTblB_wOZTw",
        "outputId": "af8234b5-45b4-4d9d-8868-b76b76286169"
      },
      "execution_count": null,
      "outputs": [
        {
          "output_type": "stream",
          "name": "stdout",
          "text": [
            "{'nombre': 'Laura', 'cedula': '4-890-2456', 'edad': 20, 'estatura': 1.68}\n",
            "Laura\n",
            "20\n"
          ]
        }
      ]
    },
    {
      "cell_type": "code",
      "source": [
        "elementos=[]\n",
        "elemento={\"simbolo\":\"H\",\"NA\":1,\"masa\":1.008}\n",
        "elementos.append(elemento)\n",
        "elemetno={\"simbolo\":\"O\",\"NA\":8,\"masa\":16.00}\n",
        "elementos.append(elemetno)\n",
        "print(elementos)\n",
        "elemento={\"simbolo\":\"Na\",\"NA\":11,\"masa\":22.99}\n",
        "elementos.append(elemento)\n",
        "print(elementos)\n",
        "printo(elementos[2])\n",
        "\n",
        "\n",
        "\n"
      ],
      "metadata": {
        "colab": {
          "base_uri": "https://localhost:8080/"
        },
        "id": "9ti94vS3TN34",
        "outputId": "65355d1f-26d8-4834-8fd3-48e53771d49e"
      },
      "execution_count": null,
      "outputs": [
        {
          "output_type": "stream",
          "name": "stdout",
          "text": [
            "[{'simbolo': 'H', 'NA': 1, 'masa': 1.008}, {'simbolo': 'O', 'NA': 8, 'masa': 16.0}]\n",
            "[{'simbolo': 'H', 'NA': 1, 'masa': 1.008}, {'simbolo': 'O', 'NA': 8, 'masa': 16.0}, {'simbolo': 'Na', 'NA': 11, 'masa': 22.99}]\n"
          ]
        }
      ]
    },
    {
      "cell_type": "code",
      "source": [
        "estudiantes=[]\n",
        "est={\"nombre\":\"Laura Pitti\",\"cedula\":\"4-826-1483\",\"estatura\":1.62}\n",
        "est={\"nombre\":\"Gladys Morales\",\"cedula\":\"4-826-1993\",\"estatura\":1.52}\n",
        "estudiantes = []\n",
        "est={\"nombre\":\"Cristian Jimenez\",\"cedula\":\"8-988-2429\",\"estatura\":1.72}\n",
        "estudiantes.append(est)\n",
        "est={\"nombre\":\"Keisy Cascante\",\"cedula\":\"4-828-1762\",\"estatura\":1.64}\n",
        "estudiantes.append(est)\n",
        "est={\"nombre\":\"Yarilin Sanchez\",\"cedula\":\"4-826-1641\",\"estatura\":1.58}\n",
        "estudiantes.append(est)\n",
        "print(estudiantes)\n",
        "print(estudiantes[0])\n"
      ],
      "metadata": {
        "colab": {
          "base_uri": "https://localhost:8080/"
        },
        "id": "sXGUCUnkV_9F",
        "outputId": "17800539-49f3-4e3b-a6c2-76def1906158"
      },
      "execution_count": null,
      "outputs": [
        {
          "output_type": "stream",
          "name": "stdout",
          "text": [
            "[{'nombre': 'Cristian Jimenez', 'cedula': '8-988-2429', 'estatura': 1.72}, {'nombre': 'Keisy Cascante', 'cedula': '4-828-1762', 'estatura': 1.64}, {'nombre': 'Yarilin Sanchez', 'cedula': '4-826-1641', 'estatura': 1.58}]\n",
            "{'nombre': 'Cristian Jimenez', 'cedula': '8-988-2429', 'estatura': 1.72}\n"
          ]
        }
      ]
    },
    {
      "cell_type": "code",
      "source": [],
      "metadata": {
        "id": "pq3tAxNTh33W"
      },
      "execution_count": null,
      "outputs": []
    },
    {
      "cell_type": "code",
      "source": [
        "elementos=[]\n",
        "elemento={\"simbolo\":\"H\",\"NA\":1,\"masa\":1.008}\n",
        "elementos.append(elemento)\n",
        "elemetno={\"simbolo\":\"He\",\"NA\":2,\"masa\":4.0026}\n",
        "elementos.append(elemetno)\n",
        "print(elementos)\n",
        "elemento={\"simbolo\":\"Li\",\"NA\":3,\"masa\":6.941}\n",
        "elementos.append(elemento)\n",
        "elemento={\"simbolo\":\"Be\",\"NA\":4,\"masa\":9.0122}\n",
        "elementos.append(elemento)\n",
        "elemento={\"simbolo\":\"B\",\"NA\":5,\"masa\":10.81}\n",
        "elementos.append(elemento)\n",
        "elemento={\"simbolo\":\"C\",\"NA\":6,\"masa\":12.011}\n",
        "elementos.append(elemento)\n",
        "elemento={\"simbolo\":\"N\",\"NA\":7,\"masa\":14.007}\n",
        "elementos.append(elemento)\n",
        "elemento={\"simbolo\":\"O\",\"NA\":8,\"masa\":15.999}\n",
        "elementos.append(elemento)\n",
        "elemento={\"simbolo\":\"F\",\"NA\":9,\"masa\":18.998}\n",
        "elementos.append(elemento)\n",
        "elemento={\"simbolo\":\"Ne\",\"NA\":10,\"masa\":20.18}\n",
        "elementos.append(elemento)\n",
        "elemento={\"simbolo\":\"Na\",\"NA\":11,\"masa\":22.99}\n",
        "elementos.append(elemento)\n",
        "elemento={\"simbolo\":\"Mg\",\"NA\":12,\"masa\":24.305}\n",
        "elementos.append(elemento)\n",
        "elemento={\"simbolo\":\"Al\",\"NA\":13,\"masa\":26.982}\n",
        "elementos.append(elemento)\n",
        "elemento={\"simbolo\":\"Si\",\"NA\":14,\"masa\":28.086}\n",
        "elementos.append(elemento)\n",
        "elemento={\"simbolo\":\"P\",\"NA\":15,\"masa\":30.974}\n",
        "elementos.append(elemento)\n",
        "elemento={\"simbolo\":\"S\",\"NA\":16,\"masa\":32.065}\n",
        "elementos.append(elemento)\n",
        "elemento={\"simbolo\":\"Cl\",\"NA\":17,\"masa\":35.453}\n",
        "elementos.append(elemento)\n",
        "elemento={\"simbolo\":\"Ar\",\"NA\":18,\"masa\":39.948}\n",
        "elementos.append(elemento)\n",
        "elemento={\"simbolo\":\"K\",\"NA\":19,\"masa\":39.098}\n",
        "elementos.append(elemento)\n",
        "elemento={\"simbolo\":\"Ca\",\"NA\":20,\"masa\":40.078}\n",
        "elementos.append(elemento)\n",
        "print(elementos)\n",
        "\n",
        "\n",
        "\n"
      ],
      "metadata": {
        "colab": {
          "base_uri": "https://localhost:8080/"
        },
        "outputId": "f217761b-19ff-4a93-c551-401ee0233d7a",
        "id": "ewmWiktoiAHF"
      },
      "execution_count": null,
      "outputs": [
        {
          "output_type": "stream",
          "name": "stdout",
          "text": [
            "[{'simbolo': 'H', 'NA': 1, 'masa': 1.008}, {'simbolo': 'He', 'NA': 2, 'masa': 4.0026}]\n",
            "[{'simbolo': 'H', 'NA': 1, 'masa': 1.008}, {'simbolo': 'He', 'NA': 2, 'masa': 4.0026}, {'simbolo': 'Li', 'NA': 3, 'masa': 6.941}, {'simbolo': 'Be', 'NA': 4, 'masa': 9.0122}, {'simbolo': 'B', 'NA': 5, 'masa': 10.81}, {'simbolo': 'C', 'NA': 6, 'masa': 12.011}, {'simbolo': 'N', 'NA': 7, 'masa': 14.007}, {'simbolo': 'O', 'NA': 8, 'masa': 15.999}, {'simbolo': 'F', 'NA': 9, 'masa': 18.998}, {'simbolo': 'Ne', 'NA': 10, 'masa': 20.18}, {'simbolo': 'Na', 'NA': 11, 'masa': 22.99}, {'simbolo': 'Mg', 'NA': 12, 'masa': 24.305}, {'simbolo': 'Al', 'NA': 13, 'masa': 26.982}, {'simbolo': 'Si', 'NA': 14, 'masa': 28.086}, {'simbolo': 'P', 'NA': 15, 'masa': 30.974}, {'simbolo': 'S', 'NA': 16, 'masa': 32.065}, {'simbolo': 'Cl', 'NA': 17, 'masa': 35.453}, {'simbolo': 'Ar', 'NA': 18, 'masa': 39.948}, {'simbolo': 'K', 'NA': 19, 'masa': 39.098}, {'simbolo': 'Ca', 'NA': 20, 'masa': 40.078}]\n"
          ]
        }
      ]
    }
  ]
}