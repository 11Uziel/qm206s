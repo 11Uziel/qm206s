{
  "nbformat": 4,
  "nbformat_minor": 0,
  "metadata": {
    "colab": {
      "provenance": []
    },
    "kernelspec": {
      "name": "python3",
      "display_name": "Python 3"
    },
    "language_info": {
      "name": "python"
    }
  },
  "cells": [
    {
      "cell_type": "markdown",
      "source": [
        "Examen Parcial 1"
      ],
      "metadata": {
        "id": "zgcVKquMdRiD"
      }
    },
    {
      "cell_type": "markdown",
      "source": [
        "Calcular la molaridad de una solución"
      ],
      "metadata": {
        "id": "rVXkiyE_eMuD"
      }
    },
    {
      "cell_type": "code",
      "source": [
        "molaridad = calcular_molaridad(10, 0.5, 58.44)  # 10 g de NaCl, volumen 0.5 L, PM = 58.44 g/mol\n",
        "print(molaridad)\n"
      ],
      "metadata": {
        "colab": {
          "base_uri": "https://localhost:8080/"
        },
        "id": "Gsct1yoad-ZM",
        "outputId": "cf928c19-913c-4763-aaac-3a94b1a19053"
      },
      "execution_count": null,
      "outputs": [
        {
          "output_type": "stream",
          "name": "stdout",
          "text": [
            "0.3422313483915127\n"
          ]
        }
      ]
    },
    {
      "cell_type": "markdown",
      "source": [
        "Calcular el pH de una solución de ácido fuerte"
      ],
      "metadata": {
        "id": "1u3gcRm9eaqV"
      }
    },
    {
      "cell_type": "code",
      "source": [
        "ph = calcular_ph(0.001)  # Concentración de H+ = 0.001 mol/L\n",
        "print(ph)\n"
      ],
      "metadata": {
        "colab": {
          "base_uri": "https://localhost:8080/"
        },
        "id": "zg9rnBXSfFtU",
        "outputId": "1db7829f-b00f-4dae-874f-970535fb6a26"
      },
      "execution_count": null,
      "outputs": [
        {
          "output_type": "stream",
          "name": "stdout",
          "text": [
            "3.0\n"
          ]
        }
      ]
    },
    {
      "cell_type": "markdown",
      "source": [
        "Calcular la masa molar de un gas ideal"
      ],
      "metadata": {
        "id": "rXLqxQl6fNUd"
      }
    },
    {
      "cell_type": "code",
      "source": [
        "masa_molar = masa_molar_gas(1, 1000, 25, 1)  # 1 g, 1000 mL, 25 °C, 1 atm\n",
        "print(masa_molar)\n"
      ],
      "metadata": {
        "colab": {
          "base_uri": "https://localhost:8080/"
        },
        "id": "1nbGtNsbfRxz",
        "outputId": "dcca92fc-27a3-4116-d568-b4c0a06d4409"
      },
      "execution_count": null,
      "outputs": [
        {
          "output_type": "stream",
          "name": "stdout",
          "text": [
            "24.478115\n"
          ]
        }
      ]
    },
    {
      "cell_type": "markdown",
      "source": [
        "Calcular concentraciones del ácido y base conjugada en un buffer"
      ],
      "metadata": {
        "id": "z9-m5nWSgcL8"
      }
    },
    {
      "cell_type": "code",
      "source": [
        "concentracion_acido, concentracion_base = preparar_buffer(4.75, 1.8e-5, 1000, 0.1)\n",
        "print(concentracion_acido, concentracion_base)\n",
        "\n"
      ],
      "metadata": {
        "colab": {
          "base_uri": "https://localhost:8080/"
        },
        "id": "BRpjpfoAgexT",
        "outputId": "039daae4-7ee6-40b6-9761-fc4031174b22"
      },
      "execution_count": null,
      "outputs": [
        {
          "output_type": "stream",
          "name": "stdout",
          "text": [
            "0.1 312411847.3279714\n"
          ]
        }
      ]
    },
    {
      "cell_type": "markdown",
      "source": [
        "Calcular la energía liberada en una reacción química"
      ],
      "metadata": {
        "id": "eupFqUMng3C2"
      }
    },
    {
      "cell_type": "code",
      "source": [
        "energia = energia_liberada(-110, 50)  # Hreactivos = 50 kJ/mol, Hproductos = -110 kJ/mol\n",
        "print(energia)"
      ],
      "metadata": {
        "colab": {
          "base_uri": "https://localhost:8080/"
        },
        "id": "q5W1V7owg4W5",
        "outputId": "b09ee80c-51e9-4943-9aaf-db4935803f52"
      },
      "execution_count": null,
      "outputs": [
        {
          "output_type": "stream",
          "name": "stdout",
          "text": [
            "160\n"
          ]
        }
      ]
    },
    {
      "cell_type": "markdown",
      "source": [
        "Calcular el rendimiento porcentual"
      ],
      "metadata": {
        "id": "dyJgJEqGiBbn"
      }
    },
    {
      "cell_type": "code",
      "source": [
        "\n",
        "rendimiento = rendimiento_porcentual(50, 45)  # Masa teórica = 50 g, Masa experimental = 45 g\n",
        "print(rendimiento)\n"
      ],
      "metadata": {
        "colab": {
          "base_uri": "https://localhost:8080/"
        },
        "id": "_4WCNSIkiDRY",
        "outputId": "1ce72e0a-bbe4-4624-cc9a-790b85ba31c5"
      },
      "execution_count": null,
      "outputs": [
        {
          "output_type": "stream",
          "name": "stdout",
          "text": [
            "90.0\n"
          ]
        }
      ]
    },
    {
      "cell_type": "markdown",
      "source": [
        "Calcular el calor específico de un metal"
      ],
      "metadata": {
        "id": "RQq_wLiIiR7W"
      }
    },
    {
      "cell_type": "code",
      "source": [
        "\n",
        "calor_especifico_resultado = calor_especifico(50, 10, 200)  # Masa = 50 g, ΔT = 10°C, Calor = 200 J\n",
        "print(calor_especifico_resultado)\n"
      ],
      "metadata": {
        "colab": {
          "base_uri": "https://localhost:8080/"
        },
        "id": "nsjsGFWmiWl7",
        "outputId": "fb423efd-2d03-423c-ba78-77774585b97b"
      },
      "execution_count": null,
      "outputs": [
        {
          "output_type": "stream",
          "name": "stdout",
          "text": [
            "0.4\n"
          ]
        }
      ]
    },
    {
      "cell_type": "markdown",
      "source": [
        "Calcular la presión osmótica"
      ],
      "metadata": {
        "id": "pQy9B0dHibXN"
      }
    },
    {
      "cell_type": "code",
      "source": [
        "\n",
        "pi = presion_osmotica(100, 25, 58.44)  # Concentración = 100 g/L, T = 25°C, PM = 58.44 g/mol\n",
        "print(pi)\n"
      ],
      "metadata": {
        "colab": {
          "base_uri": "https://localhost:8080/"
        },
        "id": "yBp44iDZifWr",
        "outputId": "4cbb6905-e248-4274-e72c-9b27d526c975"
      },
      "execution_count": null,
      "outputs": [
        {
          "output_type": "stream",
          "name": "stdout",
          "text": [
            "41.88589151266256\n"
          ]
        }
      ]
    },
    {
      "cell_type": "markdown",
      "source": [
        "Calcular el producto de solubilidad"
      ],
      "metadata": {
        "id": "qWIKIr47ik3F"
      }
    },
    {
      "cell_type": "code",
      "source": [
        "kps = calcular_kps(0.01)  # Solubilidad = 0.01 mol/L\n",
        "print(kps)"
      ],
      "metadata": {
        "colab": {
          "base_uri": "https://localhost:8080/"
        },
        "id": "h-8dhxH6iok8",
        "outputId": "fb043430-4236-4988-e5f3-94c1e1d96db0"
      },
      "execution_count": null,
      "outputs": [
        {
          "output_type": "stream",
          "name": "stdout",
          "text": [
            "0.0001\n"
          ]
        }
      ]
    },
    {
      "cell_type": "markdown",
      "source": [
        "Gráfica de energía potencial"
      ],
      "metadata": {
        "id": "bQHEHmomiwvR"
      }
    },
    {
      "cell_type": "code",
      "source": [
        "r = np.linspace(0.5, 2.5, 100)\n",
        "energia = energia_potencial(r, 300, 1.5)  # k = 300, r0 = 1.5 nm\n",
        "plt.plot(r, energia)\n",
        "plt.title(\"Energía potencial vs. distancia\")\n",
        "plt.xlabel(\"Distancia (nm)\")\n",
        "plt.ylabel(\"Energía potencial (kJ/mol)\")\n",
        "plt.show()\n",
        "\n"
      ],
      "metadata": {
        "colab": {
          "base_uri": "https://localhost:8080/",
          "height": 472
        },
        "id": "5NPN9623izWA",
        "outputId": "b9745239-7d8a-4638-ef34-b14e4982948c"
      },
      "execution_count": null,
      "outputs": [
        {
          "output_type": "display_data",
          "data": {
            "text/plain": [
              "<Figure size 640x480 with 1 Axes>"
            ],
            "image/png": "[encoded data removed]"
          },
          "metadata": {}
        }
      ]
    }
  ]
}